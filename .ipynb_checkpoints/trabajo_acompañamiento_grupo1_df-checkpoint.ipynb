{
 "cells": [
  {
   "cell_type": "code",
   "execution_count": 22,
   "id": "c8c5278f-9ba9-4604-899b-538e801dc631",
   "metadata": {},
   "outputs": [],
   "source": [
    "# Entregable 1 \n",
    "\n",
    "# Los datos tomados corresponden a Termómetro de Precios de Medicamentos.\n",
    "# Permite comparar los precios equivalentes por tableta o cápsula de diferentes \n",
    "# alternativas en el mercado, para un mismo medicamento. Los precios observados \n",
    "# corresponden al año 2022.\n",
    "\n",
    "# Los datos fueron obtenidos de:\n",
    "# https://www.datos.gov.co/Salud-y-Protecci-n-Social/Clicsalud-Term-metro-de-Precios-de-Medicamentos/n4dj-8r7k\n",
    "\n",
    "# Hecho por:\n",
    "# Cristian David Espinel \n",
    "# Angie Velásquez Parias"
   ]
  },
  {
   "cell_type": "code",
   "execution_count": 1,
   "id": "d222d69c-03fd-4c9c-9b78-a244f1523c3b",
   "metadata": {
    "tags": []
   },
   "outputs": [],
   "source": [
    "# Se importan las librerias a usar \n",
    "import pandas as pd\n",
    "import matplotlib.pyplot as plt\n",
    "import seaborn as sns"
   ]
  },
  {
   "cell_type": "code",
   "execution_count": 2,
   "id": "93c25f6c-5d6b-4aad-a8f9-a4c037f86c18",
   "metadata": {},
   "outputs": [],
   "source": [
    "# Se carga la base de datos \n",
    "df = pd.read_csv(\"trabajo_acompañamiento_grupo1.csv\")"
   ]
  },
  {
   "cell_type": "code",
   "execution_count": 3,
   "id": "98d93531-17aa-4050-9367-5dbedb0ba4e0",
   "metadata": {
    "tags": []
   },
   "outputs": [
    {
     "data": {
      "text/html": [
       "<div>\n",
       "<style scoped>\n",
       "    .dataframe tbody tr th:only-of-type {\n",
       "        vertical-align: middle;\n",
       "    }\n",
       "\n",
       "    .dataframe tbody tr th {\n",
       "        vertical-align: top;\n",
       "    }\n",
       "\n",
       "    .dataframe thead th {\n",
       "        text-align: right;\n",
       "    }\n",
       "</style>\n",
       "<table border=\"1\" class=\"dataframe\">\n",
       "  <thead>\n",
       "    <tr style=\"text-align: right;\">\n",
       "      <th></th>\n",
       "      <th>Expediente_INVIMA</th>\n",
       "      <th>principio_activo</th>\n",
       "      <th>concentracion</th>\n",
       "      <th>unidad_base</th>\n",
       "      <th>unidad_de_dispensacion</th>\n",
       "      <th>nombre_comercial</th>\n",
       "      <th>fabricante</th>\n",
       "      <th>medicamento</th>\n",
       "      <th>canal</th>\n",
       "      <th>precio_por_tableta</th>\n",
       "      <th>factoresprecio</th>\n",
       "      <th>numerofactor</th>\n",
       "    </tr>\n",
       "  </thead>\n",
       "  <tbody>\n",
       "    <tr>\n",
       "      <th>0</th>\n",
       "      <td>104739</td>\n",
       "      <td>acido valproico</td>\n",
       "      <td>acido valproico 500 mg</td>\n",
       "      <td>mg</td>\n",
       "      <td>Tableta o cápsula</td>\n",
       "      <td>Valcote</td>\n",
       "      <td>Lafrancol</td>\n",
       "      <td>Valcote (Lafrancol) - Cada tableta contiene: a...</td>\n",
       "      <td>Comercial</td>\n",
       "      <td>3,490.33</td>\n",
       "      <td>Medio</td>\n",
       "      <td>2</td>\n",
       "    </tr>\n",
       "    <tr>\n",
       "      <th>1</th>\n",
       "      <td>10815</td>\n",
       "      <td>fluoxetina</td>\n",
       "      <td>fluoxetina 20 mg</td>\n",
       "      <td>mg</td>\n",
       "      <td>Tableta o cápsula</td>\n",
       "      <td>Fluoxetina</td>\n",
       "      <td>Genfar</td>\n",
       "      <td>Fluoxetina (Genfar) - Cada capsula contiene: f...</td>\n",
       "      <td>Comercial</td>\n",
       "      <td>363.13</td>\n",
       "      <td>Medio</td>\n",
       "      <td>2</td>\n",
       "    </tr>\n",
       "    <tr>\n",
       "      <th>2</th>\n",
       "      <td>111057</td>\n",
       "      <td>proximetacaina</td>\n",
       "      <td>proximetacaina 5 mg</td>\n",
       "      <td>ml</td>\n",
       "      <td>Solución o suspensión oftálmica</td>\n",
       "      <td>Alcaine</td>\n",
       "      <td>Alcon</td>\n",
       "      <td>Alcaine (Alcon) - frasco 15 ml - Cada 1 ml con...</td>\n",
       "      <td>Comercial</td>\n",
       "      <td>57,433.33</td>\n",
       "      <td>Medio</td>\n",
       "      <td>2</td>\n",
       "    </tr>\n",
       "    <tr>\n",
       "      <th>3</th>\n",
       "      <td>11415</td>\n",
       "      <td>alopurinol</td>\n",
       "      <td>alopurinol 300 mg</td>\n",
       "      <td>mg</td>\n",
       "      <td>Tableta o cápsula</td>\n",
       "      <td>Alopurinol</td>\n",
       "      <td>Memphis</td>\n",
       "      <td>Alopurinol (Memphis) - Cada tableta contiene: ...</td>\n",
       "      <td>Comercial</td>\n",
       "      <td>365.08</td>\n",
       "      <td>Medio</td>\n",
       "      <td>2</td>\n",
       "    </tr>\n",
       "    <tr>\n",
       "      <th>4</th>\n",
       "      <td>11416</td>\n",
       "      <td>haloperidol</td>\n",
       "      <td>haloperidol 10 mg</td>\n",
       "      <td>mg</td>\n",
       "      <td>Tableta o cápsula</td>\n",
       "      <td>Haloperidol</td>\n",
       "      <td>Memphis</td>\n",
       "      <td>Haloperidol (Memphis) - Cada tableta contiene:...</td>\n",
       "      <td>Comercial</td>\n",
       "      <td>533.81</td>\n",
       "      <td>Alto</td>\n",
       "      <td>3</td>\n",
       "    </tr>\n",
       "    <tr>\n",
       "      <th>...</th>\n",
       "      <td>...</td>\n",
       "      <td>...</td>\n",
       "      <td>...</td>\n",
       "      <td>...</td>\n",
       "      <td>...</td>\n",
       "      <td>...</td>\n",
       "      <td>...</td>\n",
       "      <td>...</td>\n",
       "      <td>...</td>\n",
       "      <td>...</td>\n",
       "      <td>...</td>\n",
       "      <td>...</td>\n",
       "    </tr>\n",
       "    <tr>\n",
       "      <th>11869</th>\n",
       "      <td>93689</td>\n",
       "      <td>acido valproico</td>\n",
       "      <td>acido valproico 250 mg</td>\n",
       "      <td>mg</td>\n",
       "      <td>Tableta o cápsula de liberación modificada</td>\n",
       "      <td>Valcote</td>\n",
       "      <td>Lafrancol</td>\n",
       "      <td>Valcote (Lafrancol) - Cada tableta contiene: a...</td>\n",
       "      <td>Institucional</td>\n",
       "      <td>879.92</td>\n",
       "      <td>Medio</td>\n",
       "      <td>2</td>\n",
       "    </tr>\n",
       "    <tr>\n",
       "      <th>11870</th>\n",
       "      <td>94321</td>\n",
       "      <td>atropina</td>\n",
       "      <td>atropina 10 mg</td>\n",
       "      <td>ml</td>\n",
       "      <td>Solución o suspensión oftálmica</td>\n",
       "      <td>Atropina</td>\n",
       "      <td>Alcon</td>\n",
       "      <td>Atropina (Alcon) - frasco 5 ml - Cada 1 ml con...</td>\n",
       "      <td>Institucional</td>\n",
       "      <td>18,240.50</td>\n",
       "      <td>Medio</td>\n",
       "      <td>2</td>\n",
       "    </tr>\n",
       "    <tr>\n",
       "      <th>11871</th>\n",
       "      <td>9444</td>\n",
       "      <td>valaciclovir</td>\n",
       "      <td>valaciclovir 500 mg</td>\n",
       "      <td>mg</td>\n",
       "      <td>Tableta o cápsula</td>\n",
       "      <td>Valtrex</td>\n",
       "      <td>Glaxosmithkline</td>\n",
       "      <td>Valtrex (Glaxosmithkline) - Cada tableta conti...</td>\n",
       "      <td>Institucional</td>\n",
       "      <td>11,705.00</td>\n",
       "      <td>Alto</td>\n",
       "      <td>3</td>\n",
       "    </tr>\n",
       "    <tr>\n",
       "      <th>11872</th>\n",
       "      <td>9716</td>\n",
       "      <td>budesonida</td>\n",
       "      <td>budesonida 50 mcg</td>\n",
       "      <td>dosis</td>\n",
       "      <td>Aerosoles</td>\n",
       "      <td>B-Cort</td>\n",
       "      <td>Grunenthal</td>\n",
       "      <td>B-Cort (Grunenthal) - aerosol 200 dosis - Cada...</td>\n",
       "      <td>Institucional</td>\n",
       "      <td>29,246.00</td>\n",
       "      <td>Medio</td>\n",
       "      <td>2</td>\n",
       "    </tr>\n",
       "    <tr>\n",
       "      <th>11873</th>\n",
       "      <td>9812</td>\n",
       "      <td>metocarbamol</td>\n",
       "      <td>metocarbamol 750 mg</td>\n",
       "      <td>mg</td>\n",
       "      <td>Tableta o cápsula</td>\n",
       "      <td>Metocarbamol</td>\n",
       "      <td>Memphis</td>\n",
       "      <td>Metocarbamol (Memphis) - Cada tableta contiene...</td>\n",
       "      <td>Institucional</td>\n",
       "      <td>563.50</td>\n",
       "      <td>Alto</td>\n",
       "      <td>3</td>\n",
       "    </tr>\n",
       "  </tbody>\n",
       "</table>\n",
       "<p>11874 rows × 12 columns</p>\n",
       "</div>"
      ],
      "text/plain": [
       "       Expediente_INVIMA principio_activo           concentracion unidad_base  \\\n",
       "0                 104739  acido valproico  acido valproico 500 mg          mg   \n",
       "1                  10815       fluoxetina        fluoxetina 20 mg          mg   \n",
       "2                 111057   proximetacaina     proximetacaina 5 mg          ml   \n",
       "3                  11415       alopurinol       alopurinol 300 mg          mg   \n",
       "4                  11416      haloperidol       haloperidol 10 mg          mg   \n",
       "...                  ...              ...                     ...         ...   \n",
       "11869              93689  acido valproico  acido valproico 250 mg          mg   \n",
       "11870              94321         atropina          atropina 10 mg          ml   \n",
       "11871               9444     valaciclovir     valaciclovir 500 mg          mg   \n",
       "11872               9716       budesonida       budesonida 50 mcg       dosis   \n",
       "11873               9812     metocarbamol     metocarbamol 750 mg          mg   \n",
       "\n",
       "                           unidad_de_dispensacion nombre_comercial  \\\n",
       "0                               Tableta o cápsula          Valcote   \n",
       "1                               Tableta o cápsula       Fluoxetina   \n",
       "2                 Solución o suspensión oftálmica          Alcaine   \n",
       "3                               Tableta o cápsula       Alopurinol   \n",
       "4                               Tableta o cápsula      Haloperidol   \n",
       "...                                           ...              ...   \n",
       "11869  Tableta o cápsula de liberación modificada          Valcote   \n",
       "11870             Solución o suspensión oftálmica         Atropina   \n",
       "11871                           Tableta o cápsula          Valtrex   \n",
       "11872                                   Aerosoles           B-Cort   \n",
       "11873                           Tableta o cápsula     Metocarbamol   \n",
       "\n",
       "            fabricante                                        medicamento  \\\n",
       "0            Lafrancol  Valcote (Lafrancol) - Cada tableta contiene: a...   \n",
       "1               Genfar  Fluoxetina (Genfar) - Cada capsula contiene: f...   \n",
       "2                Alcon  Alcaine (Alcon) - frasco 15 ml - Cada 1 ml con...   \n",
       "3              Memphis  Alopurinol (Memphis) - Cada tableta contiene: ...   \n",
       "4              Memphis  Haloperidol (Memphis) - Cada tableta contiene:...   \n",
       "...                ...                                                ...   \n",
       "11869        Lafrancol  Valcote (Lafrancol) - Cada tableta contiene: a...   \n",
       "11870            Alcon  Atropina (Alcon) - frasco 5 ml - Cada 1 ml con...   \n",
       "11871  Glaxosmithkline  Valtrex (Glaxosmithkline) - Cada tableta conti...   \n",
       "11872       Grunenthal  B-Cort (Grunenthal) - aerosol 200 dosis - Cada...   \n",
       "11873          Memphis  Metocarbamol (Memphis) - Cada tableta contiene...   \n",
       "\n",
       "               canal precio_por_tableta factoresprecio  numerofactor  \n",
       "0          Comercial           3,490.33          Medio             2  \n",
       "1          Comercial             363.13          Medio             2  \n",
       "2          Comercial          57,433.33          Medio             2  \n",
       "3          Comercial             365.08          Medio             2  \n",
       "4          Comercial             533.81           Alto             3  \n",
       "...              ...                ...            ...           ...  \n",
       "11869  Institucional             879.92          Medio             2  \n",
       "11870  Institucional          18,240.50          Medio             2  \n",
       "11871  Institucional          11,705.00           Alto             3  \n",
       "11872  Institucional          29,246.00          Medio             2  \n",
       "11873  Institucional             563.50           Alto             3  \n",
       "\n",
       "[11874 rows x 12 columns]"
      ]
     },
     "execution_count": 3,
     "metadata": {},
     "output_type": "execute_result"
    }
   ],
   "source": [
    "# Visualización de la base de datos \n",
    "df"
   ]
  },
  {
   "cell_type": "code",
   "execution_count": 4,
   "id": "3a0d7d65-2b6a-4330-ac22-377053f1b0bd",
   "metadata": {},
   "outputs": [
    {
     "name": "stdout",
     "output_type": "stream",
     "text": [
      "<class 'pandas.core.frame.DataFrame'>\n",
      "RangeIndex: 11874 entries, 0 to 11873\n",
      "Data columns (total 12 columns):\n",
      " #   Column                  Non-Null Count  Dtype \n",
      "---  ------                  --------------  ----- \n",
      " 0   Expediente_INVIMA       11874 non-null  int64 \n",
      " 1   principio_activo        11874 non-null  object\n",
      " 2   concentracion           11874 non-null  object\n",
      " 3   unidad_base             11874 non-null  object\n",
      " 4   unidad_de_dispensacion  11874 non-null  object\n",
      " 5   nombre_comercial        11874 non-null  object\n",
      " 6   fabricante              11874 non-null  object\n",
      " 7   medicamento             11874 non-null  object\n",
      " 8   canal                   11874 non-null  object\n",
      " 9   precio_por_tableta      11874 non-null  object\n",
      " 10  factoresprecio          11874 non-null  object\n",
      " 11  numerofactor            11874 non-null  int64 \n",
      "dtypes: int64(2), object(10)\n",
      "memory usage: 1.1+ MB\n"
     ]
    }
   ],
   "source": [
    "# Se obtiene información general de los datos \n",
    "df.info()"
   ]
  },
  {
   "cell_type": "code",
   "execution_count": 5,
   "id": "a3d218aa-d114-414b-9513-825b807e44b2",
   "metadata": {
    "tags": []
   },
   "outputs": [
    {
     "data": {
      "text/plain": [
       "Expediente_INVIMA          int64\n",
       "principio_activo          object\n",
       "concentracion             object\n",
       "unidad_base               object\n",
       "unidad_de_dispensacion    object\n",
       "nombre_comercial          object\n",
       "fabricante                object\n",
       "medicamento               object\n",
       "canal                     object\n",
       "precio_por_tableta        object\n",
       "factoresprecio            object\n",
       "numerofactor               int64\n",
       "dtype: object"
      ]
     },
     "execution_count": 5,
     "metadata": {},
     "output_type": "execute_result"
    }
   ],
   "source": [
    "# Se verifica los tipos de datos \n",
    "dftypes = df.dtypes\n",
    "dftypes"
   ]
  },
  {
   "cell_type": "code",
   "execution_count": 6,
   "id": "99c9d6dc-caa2-449c-9218-4296dd7f8840",
   "metadata": {},
   "outputs": [
    {
     "data": {
      "text/plain": [
       "(11874, 12)"
      ]
     },
     "execution_count": 6,
     "metadata": {},
     "output_type": "execute_result"
    }
   ],
   "source": [
    "# Se obtiene la dimensión de los datos \n",
    "df.shape"
   ]
  },
  {
   "cell_type": "code",
   "execution_count": 7,
   "id": "5bab5a4b-e1ea-47bb-89e4-4fdbaaf22b06",
   "metadata": {
    "tags": []
   },
   "outputs": [
    {
     "data": {
      "text/plain": [
       "Expediente_INVIMA         11874\n",
       "principio_activo          11874\n",
       "concentracion             11874\n",
       "unidad_base               11874\n",
       "unidad_de_dispensacion    11874\n",
       "nombre_comercial          11874\n",
       "fabricante                11874\n",
       "medicamento               11874\n",
       "canal                     11874\n",
       "precio_por_tableta        11874\n",
       "factoresprecio            11874\n",
       "numerofactor              11874\n",
       "dtype: int64"
      ]
     },
     "execution_count": 7,
     "metadata": {},
     "output_type": "execute_result"
    }
   ],
   "source": [
    "# Se cuentan el numero de datos \n",
    "count_df = df.count()\n",
    "count_df"
   ]
  },
  {
   "cell_type": "code",
   "execution_count": 8,
   "id": "d7e12d67-218d-45cb-afd6-2bbed952bb21",
   "metadata": {},
   "outputs": [],
   "source": [
    "# LIMPIEZA DE DATOS "
   ]
  },
  {
   "cell_type": "code",
   "execution_count": 9,
   "id": "2bc2c861-9cbc-43b2-b067-fc6b29dd357c",
   "metadata": {
    "tags": []
   },
   "outputs": [
    {
     "data": {
      "text/html": [
       "<div>\n",
       "<style scoped>\n",
       "    .dataframe tbody tr th:only-of-type {\n",
       "        vertical-align: middle;\n",
       "    }\n",
       "\n",
       "    .dataframe tbody tr th {\n",
       "        vertical-align: top;\n",
       "    }\n",
       "\n",
       "    .dataframe thead th {\n",
       "        text-align: right;\n",
       "    }\n",
       "</style>\n",
       "<table border=\"1\" class=\"dataframe\">\n",
       "  <thead>\n",
       "    <tr style=\"text-align: right;\">\n",
       "      <th></th>\n",
       "      <th>Expediente_INVIMA</th>\n",
       "      <th>principio_activo</th>\n",
       "      <th>concentracion</th>\n",
       "      <th>unidad_base</th>\n",
       "      <th>unidad_de_dispensacion</th>\n",
       "      <th>nombre_comercial</th>\n",
       "      <th>fabricante</th>\n",
       "      <th>medicamento</th>\n",
       "      <th>canal</th>\n",
       "      <th>precio_por_tableta</th>\n",
       "      <th>factoresprecio</th>\n",
       "      <th>numerofactor</th>\n",
       "    </tr>\n",
       "  </thead>\n",
       "  <tbody>\n",
       "    <tr>\n",
       "      <th>0</th>\n",
       "      <td>False</td>\n",
       "      <td>False</td>\n",
       "      <td>False</td>\n",
       "      <td>False</td>\n",
       "      <td>False</td>\n",
       "      <td>False</td>\n",
       "      <td>False</td>\n",
       "      <td>False</td>\n",
       "      <td>False</td>\n",
       "      <td>False</td>\n",
       "      <td>False</td>\n",
       "      <td>False</td>\n",
       "    </tr>\n",
       "    <tr>\n",
       "      <th>1</th>\n",
       "      <td>False</td>\n",
       "      <td>False</td>\n",
       "      <td>False</td>\n",
       "      <td>False</td>\n",
       "      <td>False</td>\n",
       "      <td>False</td>\n",
       "      <td>False</td>\n",
       "      <td>False</td>\n",
       "      <td>False</td>\n",
       "      <td>False</td>\n",
       "      <td>False</td>\n",
       "      <td>False</td>\n",
       "    </tr>\n",
       "    <tr>\n",
       "      <th>2</th>\n",
       "      <td>False</td>\n",
       "      <td>False</td>\n",
       "      <td>False</td>\n",
       "      <td>False</td>\n",
       "      <td>False</td>\n",
       "      <td>False</td>\n",
       "      <td>False</td>\n",
       "      <td>False</td>\n",
       "      <td>False</td>\n",
       "      <td>False</td>\n",
       "      <td>False</td>\n",
       "      <td>False</td>\n",
       "    </tr>\n",
       "    <tr>\n",
       "      <th>3</th>\n",
       "      <td>False</td>\n",
       "      <td>False</td>\n",
       "      <td>False</td>\n",
       "      <td>False</td>\n",
       "      <td>False</td>\n",
       "      <td>False</td>\n",
       "      <td>False</td>\n",
       "      <td>False</td>\n",
       "      <td>False</td>\n",
       "      <td>False</td>\n",
       "      <td>False</td>\n",
       "      <td>False</td>\n",
       "    </tr>\n",
       "    <tr>\n",
       "      <th>4</th>\n",
       "      <td>False</td>\n",
       "      <td>False</td>\n",
       "      <td>False</td>\n",
       "      <td>False</td>\n",
       "      <td>False</td>\n",
       "      <td>False</td>\n",
       "      <td>False</td>\n",
       "      <td>False</td>\n",
       "      <td>False</td>\n",
       "      <td>False</td>\n",
       "      <td>False</td>\n",
       "      <td>False</td>\n",
       "    </tr>\n",
       "    <tr>\n",
       "      <th>...</th>\n",
       "      <td>...</td>\n",
       "      <td>...</td>\n",
       "      <td>...</td>\n",
       "      <td>...</td>\n",
       "      <td>...</td>\n",
       "      <td>...</td>\n",
       "      <td>...</td>\n",
       "      <td>...</td>\n",
       "      <td>...</td>\n",
       "      <td>...</td>\n",
       "      <td>...</td>\n",
       "      <td>...</td>\n",
       "    </tr>\n",
       "    <tr>\n",
       "      <th>11869</th>\n",
       "      <td>False</td>\n",
       "      <td>False</td>\n",
       "      <td>False</td>\n",
       "      <td>False</td>\n",
       "      <td>False</td>\n",
       "      <td>False</td>\n",
       "      <td>False</td>\n",
       "      <td>False</td>\n",
       "      <td>False</td>\n",
       "      <td>False</td>\n",
       "      <td>False</td>\n",
       "      <td>False</td>\n",
       "    </tr>\n",
       "    <tr>\n",
       "      <th>11870</th>\n",
       "      <td>False</td>\n",
       "      <td>False</td>\n",
       "      <td>False</td>\n",
       "      <td>False</td>\n",
       "      <td>False</td>\n",
       "      <td>False</td>\n",
       "      <td>False</td>\n",
       "      <td>False</td>\n",
       "      <td>False</td>\n",
       "      <td>False</td>\n",
       "      <td>False</td>\n",
       "      <td>False</td>\n",
       "    </tr>\n",
       "    <tr>\n",
       "      <th>11871</th>\n",
       "      <td>False</td>\n",
       "      <td>False</td>\n",
       "      <td>False</td>\n",
       "      <td>False</td>\n",
       "      <td>False</td>\n",
       "      <td>False</td>\n",
       "      <td>False</td>\n",
       "      <td>False</td>\n",
       "      <td>False</td>\n",
       "      <td>False</td>\n",
       "      <td>False</td>\n",
       "      <td>False</td>\n",
       "    </tr>\n",
       "    <tr>\n",
       "      <th>11872</th>\n",
       "      <td>False</td>\n",
       "      <td>False</td>\n",
       "      <td>False</td>\n",
       "      <td>False</td>\n",
       "      <td>False</td>\n",
       "      <td>False</td>\n",
       "      <td>False</td>\n",
       "      <td>False</td>\n",
       "      <td>False</td>\n",
       "      <td>False</td>\n",
       "      <td>False</td>\n",
       "      <td>False</td>\n",
       "    </tr>\n",
       "    <tr>\n",
       "      <th>11873</th>\n",
       "      <td>False</td>\n",
       "      <td>False</td>\n",
       "      <td>False</td>\n",
       "      <td>False</td>\n",
       "      <td>False</td>\n",
       "      <td>False</td>\n",
       "      <td>False</td>\n",
       "      <td>False</td>\n",
       "      <td>False</td>\n",
       "      <td>False</td>\n",
       "      <td>False</td>\n",
       "      <td>False</td>\n",
       "    </tr>\n",
       "  </tbody>\n",
       "</table>\n",
       "<p>11874 rows × 12 columns</p>\n",
       "</div>"
      ],
      "text/plain": [
       "       Expediente_INVIMA  principio_activo  concentracion  unidad_base  \\\n",
       "0                  False             False          False        False   \n",
       "1                  False             False          False        False   \n",
       "2                  False             False          False        False   \n",
       "3                  False             False          False        False   \n",
       "4                  False             False          False        False   \n",
       "...                  ...               ...            ...          ...   \n",
       "11869              False             False          False        False   \n",
       "11870              False             False          False        False   \n",
       "11871              False             False          False        False   \n",
       "11872              False             False          False        False   \n",
       "11873              False             False          False        False   \n",
       "\n",
       "       unidad_de_dispensacion  nombre_comercial  fabricante  medicamento  \\\n",
       "0                       False             False       False        False   \n",
       "1                       False             False       False        False   \n",
       "2                       False             False       False        False   \n",
       "3                       False             False       False        False   \n",
       "4                       False             False       False        False   \n",
       "...                       ...               ...         ...          ...   \n",
       "11869                   False             False       False        False   \n",
       "11870                   False             False       False        False   \n",
       "11871                   False             False       False        False   \n",
       "11872                   False             False       False        False   \n",
       "11873                   False             False       False        False   \n",
       "\n",
       "       canal  precio_por_tableta  factoresprecio  numerofactor  \n",
       "0      False               False           False         False  \n",
       "1      False               False           False         False  \n",
       "2      False               False           False         False  \n",
       "3      False               False           False         False  \n",
       "4      False               False           False         False  \n",
       "...      ...                 ...             ...           ...  \n",
       "11869  False               False           False         False  \n",
       "11870  False               False           False         False  \n",
       "11871  False               False           False         False  \n",
       "11872  False               False           False         False  \n",
       "11873  False               False           False         False  \n",
       "\n",
       "[11874 rows x 12 columns]"
      ]
     },
     "execution_count": 9,
     "metadata": {},
     "output_type": "execute_result"
    }
   ],
   "source": [
    "# Se verifica si no hay valores nulos \n",
    "df.isnull()"
   ]
  },
  {
   "cell_type": "code",
   "execution_count": 10,
   "id": "29787f56-4852-4bc3-a98b-71833307cf27",
   "metadata": {
    "tags": []
   },
   "outputs": [
    {
     "data": {
      "text/plain": [
       "<Axes: >"
      ]
     },
     "execution_count": 10,
     "metadata": {},
     "output_type": "execute_result"
    },
    {
     "data": {
      "image/png": "[encoded data removed]",
      "text/plain": [
       "<Figure size 432x288 with 2 Axes>"
      ]
     },
     "metadata": {
      "needs_background": "light"
     },
     "output_type": "display_data"
    }
   ],
   "source": [
    "# Se realiza mapa de calor para verificar que no hayan datos nulos \n",
    "sns.set_style(\"white\")\n",
    "sns.heatmap(df.isnull())"
   ]
  },
  {
   "cell_type": "code",
   "execution_count": 11,
   "id": "1664d463-d187-491a-98ec-82d3b63ca8ef",
   "metadata": {
    "tags": []
   },
   "outputs": [
    {
     "data": {
      "text/html": [
       "<div>\n",
       "<style scoped>\n",
       "    .dataframe tbody tr th:only-of-type {\n",
       "        vertical-align: middle;\n",
       "    }\n",
       "\n",
       "    .dataframe tbody tr th {\n",
       "        vertical-align: top;\n",
       "    }\n",
       "\n",
       "    .dataframe thead th {\n",
       "        text-align: right;\n",
       "    }\n",
       "</style>\n",
       "<table border=\"1\" class=\"dataframe\">\n",
       "  <thead>\n",
       "    <tr style=\"text-align: right;\">\n",
       "      <th></th>\n",
       "      <th>Expediente_INVIMA</th>\n",
       "      <th>principio_activo</th>\n",
       "      <th>concentracion</th>\n",
       "      <th>unidad_base</th>\n",
       "      <th>unidad_de_dispensacion</th>\n",
       "      <th>nombre_comercial</th>\n",
       "      <th>fabricante</th>\n",
       "      <th>medicamento</th>\n",
       "      <th>canal</th>\n",
       "      <th>precio_por_tableta</th>\n",
       "      <th>factoresprecio</th>\n",
       "      <th>numerofactor</th>\n",
       "    </tr>\n",
       "  </thead>\n",
       "  <tbody>\n",
       "    <tr>\n",
       "      <th>0</th>\n",
       "      <td>104739</td>\n",
       "      <td>acido valproico</td>\n",
       "      <td>acido valproico 500 mg</td>\n",
       "      <td>mg</td>\n",
       "      <td>Tableta o cápsula</td>\n",
       "      <td>Valcote</td>\n",
       "      <td>Lafrancol</td>\n",
       "      <td>Valcote (Lafrancol) - Cada tableta contiene: a...</td>\n",
       "      <td>Comercial</td>\n",
       "      <td>3,490.33</td>\n",
       "      <td>Medio</td>\n",
       "      <td>2</td>\n",
       "    </tr>\n",
       "    <tr>\n",
       "      <th>1</th>\n",
       "      <td>10815</td>\n",
       "      <td>fluoxetina</td>\n",
       "      <td>fluoxetina 20 mg</td>\n",
       "      <td>mg</td>\n",
       "      <td>Tableta o cápsula</td>\n",
       "      <td>Fluoxetina</td>\n",
       "      <td>Genfar</td>\n",
       "      <td>Fluoxetina (Genfar) - Cada capsula contiene: f...</td>\n",
       "      <td>Comercial</td>\n",
       "      <td>363.13</td>\n",
       "      <td>Medio</td>\n",
       "      <td>2</td>\n",
       "    </tr>\n",
       "    <tr>\n",
       "      <th>2</th>\n",
       "      <td>111057</td>\n",
       "      <td>proximetacaina</td>\n",
       "      <td>proximetacaina 5 mg</td>\n",
       "      <td>ml</td>\n",
       "      <td>Solución o suspensión oftálmica</td>\n",
       "      <td>Alcaine</td>\n",
       "      <td>Alcon</td>\n",
       "      <td>Alcaine (Alcon) - frasco 15 ml - Cada 1 ml con...</td>\n",
       "      <td>Comercial</td>\n",
       "      <td>57,433.33</td>\n",
       "      <td>Medio</td>\n",
       "      <td>2</td>\n",
       "    </tr>\n",
       "    <tr>\n",
       "      <th>3</th>\n",
       "      <td>11415</td>\n",
       "      <td>alopurinol</td>\n",
       "      <td>alopurinol 300 mg</td>\n",
       "      <td>mg</td>\n",
       "      <td>Tableta o cápsula</td>\n",
       "      <td>Alopurinol</td>\n",
       "      <td>Memphis</td>\n",
       "      <td>Alopurinol (Memphis) - Cada tableta contiene: ...</td>\n",
       "      <td>Comercial</td>\n",
       "      <td>365.08</td>\n",
       "      <td>Medio</td>\n",
       "      <td>2</td>\n",
       "    </tr>\n",
       "    <tr>\n",
       "      <th>4</th>\n",
       "      <td>11416</td>\n",
       "      <td>haloperidol</td>\n",
       "      <td>haloperidol 10 mg</td>\n",
       "      <td>mg</td>\n",
       "      <td>Tableta o cápsula</td>\n",
       "      <td>Haloperidol</td>\n",
       "      <td>Memphis</td>\n",
       "      <td>Haloperidol (Memphis) - Cada tableta contiene:...</td>\n",
       "      <td>Comercial</td>\n",
       "      <td>533.81</td>\n",
       "      <td>Alto</td>\n",
       "      <td>3</td>\n",
       "    </tr>\n",
       "    <tr>\n",
       "      <th>...</th>\n",
       "      <td>...</td>\n",
       "      <td>...</td>\n",
       "      <td>...</td>\n",
       "      <td>...</td>\n",
       "      <td>...</td>\n",
       "      <td>...</td>\n",
       "      <td>...</td>\n",
       "      <td>...</td>\n",
       "      <td>...</td>\n",
       "      <td>...</td>\n",
       "      <td>...</td>\n",
       "      <td>...</td>\n",
       "    </tr>\n",
       "    <tr>\n",
       "      <th>11869</th>\n",
       "      <td>93689</td>\n",
       "      <td>acido valproico</td>\n",
       "      <td>acido valproico 250 mg</td>\n",
       "      <td>mg</td>\n",
       "      <td>Tableta o cápsula de liberación modificada</td>\n",
       "      <td>Valcote</td>\n",
       "      <td>Lafrancol</td>\n",
       "      <td>Valcote (Lafrancol) - Cada tableta contiene: a...</td>\n",
       "      <td>Institucional</td>\n",
       "      <td>879.92</td>\n",
       "      <td>Medio</td>\n",
       "      <td>2</td>\n",
       "    </tr>\n",
       "    <tr>\n",
       "      <th>11870</th>\n",
       "      <td>94321</td>\n",
       "      <td>atropina</td>\n",
       "      <td>atropina 10 mg</td>\n",
       "      <td>ml</td>\n",
       "      <td>Solución o suspensión oftálmica</td>\n",
       "      <td>Atropina</td>\n",
       "      <td>Alcon</td>\n",
       "      <td>Atropina (Alcon) - frasco 5 ml - Cada 1 ml con...</td>\n",
       "      <td>Institucional</td>\n",
       "      <td>18,240.50</td>\n",
       "      <td>Medio</td>\n",
       "      <td>2</td>\n",
       "    </tr>\n",
       "    <tr>\n",
       "      <th>11871</th>\n",
       "      <td>9444</td>\n",
       "      <td>valaciclovir</td>\n",
       "      <td>valaciclovir 500 mg</td>\n",
       "      <td>mg</td>\n",
       "      <td>Tableta o cápsula</td>\n",
       "      <td>Valtrex</td>\n",
       "      <td>Glaxosmithkline</td>\n",
       "      <td>Valtrex (Glaxosmithkline) - Cada tableta conti...</td>\n",
       "      <td>Institucional</td>\n",
       "      <td>11,705.00</td>\n",
       "      <td>Alto</td>\n",
       "      <td>3</td>\n",
       "    </tr>\n",
       "    <tr>\n",
       "      <th>11872</th>\n",
       "      <td>9716</td>\n",
       "      <td>budesonida</td>\n",
       "      <td>budesonida 50 mcg</td>\n",
       "      <td>dosis</td>\n",
       "      <td>Aerosoles</td>\n",
       "      <td>B-Cort</td>\n",
       "      <td>Grunenthal</td>\n",
       "      <td>B-Cort (Grunenthal) - aerosol 200 dosis - Cada...</td>\n",
       "      <td>Institucional</td>\n",
       "      <td>29,246.00</td>\n",
       "      <td>Medio</td>\n",
       "      <td>2</td>\n",
       "    </tr>\n",
       "    <tr>\n",
       "      <th>11873</th>\n",
       "      <td>9812</td>\n",
       "      <td>metocarbamol</td>\n",
       "      <td>metocarbamol 750 mg</td>\n",
       "      <td>mg</td>\n",
       "      <td>Tableta o cápsula</td>\n",
       "      <td>Metocarbamol</td>\n",
       "      <td>Memphis</td>\n",
       "      <td>Metocarbamol (Memphis) - Cada tableta contiene...</td>\n",
       "      <td>Institucional</td>\n",
       "      <td>563.50</td>\n",
       "      <td>Alto</td>\n",
       "      <td>3</td>\n",
       "    </tr>\n",
       "  </tbody>\n",
       "</table>\n",
       "<p>11874 rows × 12 columns</p>\n",
       "</div>"
      ],
      "text/plain": [
       "       Expediente_INVIMA principio_activo           concentracion unidad_base  \\\n",
       "0                 104739  acido valproico  acido valproico 500 mg          mg   \n",
       "1                  10815       fluoxetina        fluoxetina 20 mg          mg   \n",
       "2                 111057   proximetacaina     proximetacaina 5 mg          ml   \n",
       "3                  11415       alopurinol       alopurinol 300 mg          mg   \n",
       "4                  11416      haloperidol       haloperidol 10 mg          mg   \n",
       "...                  ...              ...                     ...         ...   \n",
       "11869              93689  acido valproico  acido valproico 250 mg          mg   \n",
       "11870              94321         atropina          atropina 10 mg          ml   \n",
       "11871               9444     valaciclovir     valaciclovir 500 mg          mg   \n",
       "11872               9716       budesonida       budesonida 50 mcg       dosis   \n",
       "11873               9812     metocarbamol     metocarbamol 750 mg          mg   \n",
       "\n",
       "                           unidad_de_dispensacion nombre_comercial  \\\n",
       "0                               Tableta o cápsula          Valcote   \n",
       "1                               Tableta o cápsula       Fluoxetina   \n",
       "2                 Solución o suspensión oftálmica          Alcaine   \n",
       "3                               Tableta o cápsula       Alopurinol   \n",
       "4                               Tableta o cápsula      Haloperidol   \n",
       "...                                           ...              ...   \n",
       "11869  Tableta o cápsula de liberación modificada          Valcote   \n",
       "11870             Solución o suspensión oftálmica         Atropina   \n",
       "11871                           Tableta o cápsula          Valtrex   \n",
       "11872                                   Aerosoles           B-Cort   \n",
       "11873                           Tableta o cápsula     Metocarbamol   \n",
       "\n",
       "            fabricante                                        medicamento  \\\n",
       "0            Lafrancol  Valcote (Lafrancol) - Cada tableta contiene: a...   \n",
       "1               Genfar  Fluoxetina (Genfar) - Cada capsula contiene: f...   \n",
       "2                Alcon  Alcaine (Alcon) - frasco 15 ml - Cada 1 ml con...   \n",
       "3              Memphis  Alopurinol (Memphis) - Cada tableta contiene: ...   \n",
       "4              Memphis  Haloperidol (Memphis) - Cada tableta contiene:...   \n",
       "...                ...                                                ...   \n",
       "11869        Lafrancol  Valcote (Lafrancol) - Cada tableta contiene: a...   \n",
       "11870            Alcon  Atropina (Alcon) - frasco 5 ml - Cada 1 ml con...   \n",
       "11871  Glaxosmithkline  Valtrex (Glaxosmithkline) - Cada tableta conti...   \n",
       "11872       Grunenthal  B-Cort (Grunenthal) - aerosol 200 dosis - Cada...   \n",
       "11873          Memphis  Metocarbamol (Memphis) - Cada tableta contiene...   \n",
       "\n",
       "               canal precio_por_tableta factoresprecio  numerofactor  \n",
       "0          Comercial           3,490.33          Medio             2  \n",
       "1          Comercial             363.13          Medio             2  \n",
       "2          Comercial          57,433.33          Medio             2  \n",
       "3          Comercial             365.08          Medio             2  \n",
       "4          Comercial             533.81           Alto             3  \n",
       "...              ...                ...            ...           ...  \n",
       "11869  Institucional             879.92          Medio             2  \n",
       "11870  Institucional          18,240.50          Medio             2  \n",
       "11871  Institucional          11,705.00           Alto             3  \n",
       "11872  Institucional          29,246.00          Medio             2  \n",
       "11873  Institucional             563.50           Alto             3  \n",
       "\n",
       "[11874 rows x 12 columns]"
      ]
     },
     "execution_count": 11,
     "metadata": {},
     "output_type": "execute_result"
    }
   ],
   "source": [
    "# Los valores nulos se llenan con N/A\n",
    "df.fillna(\"N/A\")"
   ]
  },
  {
   "cell_type": "code",
   "execution_count": 12,
   "id": "91fe529e-b4c5-451f-b053-1ef14f988663",
   "metadata": {},
   "outputs": [],
   "source": [
    "# Se desea cambiar el tipo de dato de la columna \"precio_por_tableta\" dado que es un string \n",
    "# Sin embargo, los números contienen una coma como separador de miles, lo cual no es un formato \n",
    "# numérico válido en Python.\n",
    "# Se procede a eliminar la coma y se convierte a tipo flotante \n",
    "\n",
    "df['precio_por_tableta'] = df['precio_por_tableta'].str.replace(',', '').astype(float)"
   ]
  },
  {
   "cell_type": "code",
   "execution_count": 13,
   "id": "a34e9d42-3454-4ce3-b5fb-f8463b3a199b",
   "metadata": {},
   "outputs": [
    {
     "name": "stdout",
     "output_type": "stream",
     "text": [
      "<class 'pandas.core.frame.DataFrame'>\n",
      "RangeIndex: 11874 entries, 0 to 11873\n",
      "Data columns (total 12 columns):\n",
      " #   Column                  Non-Null Count  Dtype  \n",
      "---  ------                  --------------  -----  \n",
      " 0   Expediente_INVIMA       11874 non-null  int64  \n",
      " 1   principio_activo        11874 non-null  object \n",
      " 2   concentracion           11874 non-null  object \n",
      " 3   unidad_base             11874 non-null  object \n",
      " 4   unidad_de_dispensacion  11874 non-null  object \n",
      " 5   nombre_comercial        11874 non-null  object \n",
      " 6   fabricante              11874 non-null  object \n",
      " 7   medicamento             11874 non-null  object \n",
      " 8   canal                   11874 non-null  object \n",
      " 9   precio_por_tableta      11874 non-null  float64\n",
      " 10  factoresprecio          11874 non-null  object \n",
      " 11  numerofactor            11874 non-null  int64  \n",
      "dtypes: float64(1), int64(2), object(9)\n",
      "memory usage: 1.1+ MB\n"
     ]
    }
   ],
   "source": [
    "# Se verifica que se halla hecho el cambio \n",
    "df.info()"
   ]
  },
  {
   "cell_type": "code",
   "execution_count": 14,
   "id": "91842767-1464-41ac-bbe2-f75b31e711ae",
   "metadata": {},
   "outputs": [
    {
     "data": {
      "text/plain": [
       "0        False\n",
       "1        False\n",
       "2        False\n",
       "3        False\n",
       "4        False\n",
       "         ...  \n",
       "11869    False\n",
       "11870    False\n",
       "11871    False\n",
       "11872    False\n",
       "11873    False\n",
       "Length: 11874, dtype: bool"
      ]
     },
     "execution_count": 14,
     "metadata": {},
     "output_type": "execute_result"
    }
   ],
   "source": [
    "# Se verifica si hay filas duplicadas \n",
    "duplicados = df.duplicated()\n",
    "duplicados"
   ]
  },
  {
   "cell_type": "code",
   "execution_count": 15,
   "id": "30864f76-5827-43bd-ab89-923b9313038f",
   "metadata": {},
   "outputs": [
    {
     "data": {
      "text/plain": [
       "array(['mg', 'ml', 'g', 'ui', 'dosis', 'mcg', 'metros cubicos', 'pfu',\n",
       "       'u', 'kg', 'mci', 'l', 'log tcid50', 'mcg/h', 'ufc', 'mg/24h',\n",
       "       'ccid50', 'mg/1h', 'mui', 'mbq', 'gbq'], dtype=object)"
      ]
     },
     "execution_count": 15,
     "metadata": {},
     "output_type": "execute_result"
    }
   ],
   "source": [
    "# Valores unicos de las columnas de interes \n",
    "unique_unidad_base = df['unidad_base'].unique()\n",
    "unique_unidad_base"
   ]
  },
  {
   "cell_type": "code",
   "execution_count": 16,
   "id": "ad760bcd-c12a-4ac0-8c0b-18629215ab34",
   "metadata": {},
   "outputs": [
    {
     "data": {
      "text/plain": [
       "array(['Tableta o cápsula', 'Solución o suspensión oftálmica',\n",
       "       'Cremas o geles o ungüentos o pomadas o pastas o jaleas',\n",
       "       'Polvo para reconstituir a Solución o suspensión oral',\n",
       "       'Polvo para reconstituir a Solución o suspensión inyectable',\n",
       "       'Solución o suspensión inyectable', 'Jarabe',\n",
       "       'Solución o suspensión oral', 'Polvos o granulados',\n",
       "       'Solución o suspensión para inhalación', 'Óvulo',\n",
       "       'Emulsión inyectable', 'Solución o suspensión tópica', 'Implante',\n",
       "       'Aerosoles', 'Solución o suspensión ótica',\n",
       "       'Tableta o cápsula de liberación modificada',\n",
       "       'Polvos para Inhalación', 'Elixir o tintura', 'Loción',\n",
       "       'Emulsión Topica', 'Gas', 'Solución o suspensión bucal',\n",
       "       'Emulsión oftálmica', 'Tableta o cápsula vaginal', 'Supositorio',\n",
       "       'Parche', 'Solución o suspensión intranasal', 'Jabón',\n",
       "       'Solución o suspensión rectal', 'tableta o cápsula',\n",
       "       'Emulsión Oral'], dtype=object)"
      ]
     },
     "execution_count": 16,
     "metadata": {},
     "output_type": "execute_result"
    }
   ],
   "source": [
    "unique_unidad_de_dispensacion = df['unidad_de_dispensacion'].unique()\n",
    "unique_unidad_de_dispensacion"
   ]
  },
  {
   "cell_type": "code",
   "execution_count": 17,
   "id": "a4839207-13f0-490b-b8bf-2aa203ca85a3",
   "metadata": {},
   "outputs": [
    {
     "data": {
      "text/plain": [
       "array(['Comercial', 'Institucional'], dtype=object)"
      ]
     },
     "execution_count": 17,
     "metadata": {},
     "output_type": "execute_result"
    }
   ],
   "source": [
    "unique_canal = df['canal'].unique()\n",
    "unique_canal"
   ]
  },
  {
   "cell_type": "code",
   "execution_count": 18,
   "id": "f70f0fb6-e826-4989-8161-34861c383b3f",
   "metadata": {},
   "outputs": [],
   "source": [
    "# Creación de columnas con valor booleano según consideraciones en el análisis de la data"
   ]
  },
  {
   "cell_type": "code",
   "execution_count": 19,
   "id": "aac0eee1-6188-403a-9abe-318a601726d8",
   "metadata": {},
   "outputs": [
    {
     "data": {
      "text/html": [
       "<div>\n",
       "<style scoped>\n",
       "    .dataframe tbody tr th:only-of-type {\n",
       "        vertical-align: middle;\n",
       "    }\n",
       "\n",
       "    .dataframe tbody tr th {\n",
       "        vertical-align: top;\n",
       "    }\n",
       "\n",
       "    .dataframe thead th {\n",
       "        text-align: right;\n",
       "    }\n",
       "</style>\n",
       "<table border=\"1\" class=\"dataframe\">\n",
       "  <thead>\n",
       "    <tr style=\"text-align: right;\">\n",
       "      <th></th>\n",
       "      <th>Expediente_INVIMA</th>\n",
       "      <th>principio_activo</th>\n",
       "      <th>concentracion</th>\n",
       "      <th>unidad_base</th>\n",
       "      <th>unidad_de_dispensacion</th>\n",
       "      <th>nombre_comercial</th>\n",
       "      <th>fabricante</th>\n",
       "      <th>medicamento</th>\n",
       "      <th>canal</th>\n",
       "      <th>precio_por_tableta</th>\n",
       "      <th>factoresprecio</th>\n",
       "      <th>numerofactor</th>\n",
       "      <th>canal_institucional</th>\n",
       "    </tr>\n",
       "  </thead>\n",
       "  <tbody>\n",
       "    <tr>\n",
       "      <th>0</th>\n",
       "      <td>104739</td>\n",
       "      <td>acido valproico</td>\n",
       "      <td>acido valproico 500 mg</td>\n",
       "      <td>mg</td>\n",
       "      <td>Tableta o cápsula</td>\n",
       "      <td>Valcote</td>\n",
       "      <td>Lafrancol</td>\n",
       "      <td>Valcote (Lafrancol) - Cada tableta contiene: a...</td>\n",
       "      <td>Comercial</td>\n",
       "      <td>3490.33</td>\n",
       "      <td>Medio</td>\n",
       "      <td>2</td>\n",
       "      <td>False</td>\n",
       "    </tr>\n",
       "    <tr>\n",
       "      <th>1</th>\n",
       "      <td>10815</td>\n",
       "      <td>fluoxetina</td>\n",
       "      <td>fluoxetina 20 mg</td>\n",
       "      <td>mg</td>\n",
       "      <td>Tableta o cápsula</td>\n",
       "      <td>Fluoxetina</td>\n",
       "      <td>Genfar</td>\n",
       "      <td>Fluoxetina (Genfar) - Cada capsula contiene: f...</td>\n",
       "      <td>Comercial</td>\n",
       "      <td>363.13</td>\n",
       "      <td>Medio</td>\n",
       "      <td>2</td>\n",
       "      <td>False</td>\n",
       "    </tr>\n",
       "    <tr>\n",
       "      <th>2</th>\n",
       "      <td>111057</td>\n",
       "      <td>proximetacaina</td>\n",
       "      <td>proximetacaina 5 mg</td>\n",
       "      <td>ml</td>\n",
       "      <td>Solución o suspensión oftálmica</td>\n",
       "      <td>Alcaine</td>\n",
       "      <td>Alcon</td>\n",
       "      <td>Alcaine (Alcon) - frasco 15 ml - Cada 1 ml con...</td>\n",
       "      <td>Comercial</td>\n",
       "      <td>57433.33</td>\n",
       "      <td>Medio</td>\n",
       "      <td>2</td>\n",
       "      <td>False</td>\n",
       "    </tr>\n",
       "    <tr>\n",
       "      <th>3</th>\n",
       "      <td>11415</td>\n",
       "      <td>alopurinol</td>\n",
       "      <td>alopurinol 300 mg</td>\n",
       "      <td>mg</td>\n",
       "      <td>Tableta o cápsula</td>\n",
       "      <td>Alopurinol</td>\n",
       "      <td>Memphis</td>\n",
       "      <td>Alopurinol (Memphis) - Cada tableta contiene: ...</td>\n",
       "      <td>Comercial</td>\n",
       "      <td>365.08</td>\n",
       "      <td>Medio</td>\n",
       "      <td>2</td>\n",
       "      <td>False</td>\n",
       "    </tr>\n",
       "    <tr>\n",
       "      <th>4</th>\n",
       "      <td>11416</td>\n",
       "      <td>haloperidol</td>\n",
       "      <td>haloperidol 10 mg</td>\n",
       "      <td>mg</td>\n",
       "      <td>Tableta o cápsula</td>\n",
       "      <td>Haloperidol</td>\n",
       "      <td>Memphis</td>\n",
       "      <td>Haloperidol (Memphis) - Cada tableta contiene:...</td>\n",
       "      <td>Comercial</td>\n",
       "      <td>533.81</td>\n",
       "      <td>Alto</td>\n",
       "      <td>3</td>\n",
       "      <td>False</td>\n",
       "    </tr>\n",
       "    <tr>\n",
       "      <th>...</th>\n",
       "      <td>...</td>\n",
       "      <td>...</td>\n",
       "      <td>...</td>\n",
       "      <td>...</td>\n",
       "      <td>...</td>\n",
       "      <td>...</td>\n",
       "      <td>...</td>\n",
       "      <td>...</td>\n",
       "      <td>...</td>\n",
       "      <td>...</td>\n",
       "      <td>...</td>\n",
       "      <td>...</td>\n",
       "      <td>...</td>\n",
       "    </tr>\n",
       "    <tr>\n",
       "      <th>11869</th>\n",
       "      <td>93689</td>\n",
       "      <td>acido valproico</td>\n",
       "      <td>acido valproico 250 mg</td>\n",
       "      <td>mg</td>\n",
       "      <td>Tableta o cápsula de liberación modificada</td>\n",
       "      <td>Valcote</td>\n",
       "      <td>Lafrancol</td>\n",
       "      <td>Valcote (Lafrancol) - Cada tableta contiene: a...</td>\n",
       "      <td>Institucional</td>\n",
       "      <td>879.92</td>\n",
       "      <td>Medio</td>\n",
       "      <td>2</td>\n",
       "      <td>True</td>\n",
       "    </tr>\n",
       "    <tr>\n",
       "      <th>11870</th>\n",
       "      <td>94321</td>\n",
       "      <td>atropina</td>\n",
       "      <td>atropina 10 mg</td>\n",
       "      <td>ml</td>\n",
       "      <td>Solución o suspensión oftálmica</td>\n",
       "      <td>Atropina</td>\n",
       "      <td>Alcon</td>\n",
       "      <td>Atropina (Alcon) - frasco 5 ml - Cada 1 ml con...</td>\n",
       "      <td>Institucional</td>\n",
       "      <td>18240.50</td>\n",
       "      <td>Medio</td>\n",
       "      <td>2</td>\n",
       "      <td>True</td>\n",
       "    </tr>\n",
       "    <tr>\n",
       "      <th>11871</th>\n",
       "      <td>9444</td>\n",
       "      <td>valaciclovir</td>\n",
       "      <td>valaciclovir 500 mg</td>\n",
       "      <td>mg</td>\n",
       "      <td>Tableta o cápsula</td>\n",
       "      <td>Valtrex</td>\n",
       "      <td>Glaxosmithkline</td>\n",
       "      <td>Valtrex (Glaxosmithkline) - Cada tableta conti...</td>\n",
       "      <td>Institucional</td>\n",
       "      <td>11705.00</td>\n",
       "      <td>Alto</td>\n",
       "      <td>3</td>\n",
       "      <td>True</td>\n",
       "    </tr>\n",
       "    <tr>\n",
       "      <th>11872</th>\n",
       "      <td>9716</td>\n",
       "      <td>budesonida</td>\n",
       "      <td>budesonida 50 mcg</td>\n",
       "      <td>dosis</td>\n",
       "      <td>Aerosoles</td>\n",
       "      <td>B-Cort</td>\n",
       "      <td>Grunenthal</td>\n",
       "      <td>B-Cort (Grunenthal) - aerosol 200 dosis - Cada...</td>\n",
       "      <td>Institucional</td>\n",
       "      <td>29246.00</td>\n",
       "      <td>Medio</td>\n",
       "      <td>2</td>\n",
       "      <td>True</td>\n",
       "    </tr>\n",
       "    <tr>\n",
       "      <th>11873</th>\n",
       "      <td>9812</td>\n",
       "      <td>metocarbamol</td>\n",
       "      <td>metocarbamol 750 mg</td>\n",
       "      <td>mg</td>\n",
       "      <td>Tableta o cápsula</td>\n",
       "      <td>Metocarbamol</td>\n",
       "      <td>Memphis</td>\n",
       "      <td>Metocarbamol (Memphis) - Cada tableta contiene...</td>\n",
       "      <td>Institucional</td>\n",
       "      <td>563.50</td>\n",
       "      <td>Alto</td>\n",
       "      <td>3</td>\n",
       "      <td>True</td>\n",
       "    </tr>\n",
       "  </tbody>\n",
       "</table>\n",
       "<p>11874 rows × 13 columns</p>\n",
       "</div>"
      ],
      "text/plain": [
       "       Expediente_INVIMA principio_activo           concentracion unidad_base  \\\n",
       "0                 104739  acido valproico  acido valproico 500 mg          mg   \n",
       "1                  10815       fluoxetina        fluoxetina 20 mg          mg   \n",
       "2                 111057   proximetacaina     proximetacaina 5 mg          ml   \n",
       "3                  11415       alopurinol       alopurinol 300 mg          mg   \n",
       "4                  11416      haloperidol       haloperidol 10 mg          mg   \n",
       "...                  ...              ...                     ...         ...   \n",
       "11869              93689  acido valproico  acido valproico 250 mg          mg   \n",
       "11870              94321         atropina          atropina 10 mg          ml   \n",
       "11871               9444     valaciclovir     valaciclovir 500 mg          mg   \n",
       "11872               9716       budesonida       budesonida 50 mcg       dosis   \n",
       "11873               9812     metocarbamol     metocarbamol 750 mg          mg   \n",
       "\n",
       "                           unidad_de_dispensacion nombre_comercial  \\\n",
       "0                               Tableta o cápsula          Valcote   \n",
       "1                               Tableta o cápsula       Fluoxetina   \n",
       "2                 Solución o suspensión oftálmica          Alcaine   \n",
       "3                               Tableta o cápsula       Alopurinol   \n",
       "4                               Tableta o cápsula      Haloperidol   \n",
       "...                                           ...              ...   \n",
       "11869  Tableta o cápsula de liberación modificada          Valcote   \n",
       "11870             Solución o suspensión oftálmica         Atropina   \n",
       "11871                           Tableta o cápsula          Valtrex   \n",
       "11872                                   Aerosoles           B-Cort   \n",
       "11873                           Tableta o cápsula     Metocarbamol   \n",
       "\n",
       "            fabricante                                        medicamento  \\\n",
       "0            Lafrancol  Valcote (Lafrancol) - Cada tableta contiene: a...   \n",
       "1               Genfar  Fluoxetina (Genfar) - Cada capsula contiene: f...   \n",
       "2                Alcon  Alcaine (Alcon) - frasco 15 ml - Cada 1 ml con...   \n",
       "3              Memphis  Alopurinol (Memphis) - Cada tableta contiene: ...   \n",
       "4              Memphis  Haloperidol (Memphis) - Cada tableta contiene:...   \n",
       "...                ...                                                ...   \n",
       "11869        Lafrancol  Valcote (Lafrancol) - Cada tableta contiene: a...   \n",
       "11870            Alcon  Atropina (Alcon) - frasco 5 ml - Cada 1 ml con...   \n",
       "11871  Glaxosmithkline  Valtrex (Glaxosmithkline) - Cada tableta conti...   \n",
       "11872       Grunenthal  B-Cort (Grunenthal) - aerosol 200 dosis - Cada...   \n",
       "11873          Memphis  Metocarbamol (Memphis) - Cada tableta contiene...   \n",
       "\n",
       "               canal  precio_por_tableta factoresprecio  numerofactor  \\\n",
       "0          Comercial             3490.33          Medio             2   \n",
       "1          Comercial              363.13          Medio             2   \n",
       "2          Comercial            57433.33          Medio             2   \n",
       "3          Comercial              365.08          Medio             2   \n",
       "4          Comercial              533.81           Alto             3   \n",
       "...              ...                 ...            ...           ...   \n",
       "11869  Institucional              879.92          Medio             2   \n",
       "11870  Institucional            18240.50          Medio             2   \n",
       "11871  Institucional            11705.00           Alto             3   \n",
       "11872  Institucional            29246.00          Medio             2   \n",
       "11873  Institucional              563.50           Alto             3   \n",
       "\n",
       "       canal_institucional  \n",
       "0                    False  \n",
       "1                    False  \n",
       "2                    False  \n",
       "3                    False  \n",
       "4                    False  \n",
       "...                    ...  \n",
       "11869                 True  \n",
       "11870                 True  \n",
       "11871                 True  \n",
       "11872                 True  \n",
       "11873                 True  \n",
       "\n",
       "[11874 rows x 13 columns]"
      ]
     },
     "execution_count": 19,
     "metadata": {},
     "output_type": "execute_result"
    }
   ],
   "source": [
    "df['canal_institucional'] = df['canal'] == 'Institucional'\n",
    "df"
   ]
  },
  {
   "cell_type": "code",
   "execution_count": 20,
   "id": "59917f4f-5bf8-4834-8a46-d68330bdb0e0",
   "metadata": {},
   "outputs": [],
   "source": [
    "# DESCRIPCIÓN DE LOS DATOS "
   ]
  },
  {
   "cell_type": "code",
   "execution_count": 21,
   "id": "b6f59db9-3d2e-419a-9dff-4b88fbcf15dc",
   "metadata": {
    "tags": []
   },
   "outputs": [
    {
     "data": {
      "text/html": [
       "<div>\n",
       "<style scoped>\n",
       "    .dataframe tbody tr th:only-of-type {\n",
       "        vertical-align: middle;\n",
       "    }\n",
       "\n",
       "    .dataframe tbody tr th {\n",
       "        vertical-align: top;\n",
       "    }\n",
       "\n",
       "    .dataframe thead th {\n",
       "        text-align: right;\n",
       "    }\n",
       "</style>\n",
       "<table border=\"1\" class=\"dataframe\">\n",
       "  <thead>\n",
       "    <tr style=\"text-align: right;\">\n",
       "      <th></th>\n",
       "      <th>Expediente_INVIMA</th>\n",
       "      <th>precio_por_tableta</th>\n",
       "      <th>numerofactor</th>\n",
       "    </tr>\n",
       "  </thead>\n",
       "  <tbody>\n",
       "    <tr>\n",
       "      <th>count</th>\n",
       "      <td>1.187400e+04</td>\n",
       "      <td>1.187400e+04</td>\n",
       "      <td>11874.000000</td>\n",
       "    </tr>\n",
       "    <tr>\n",
       "      <th>mean</th>\n",
       "      <td>1.648629e+07</td>\n",
       "      <td>1.690903e+05</td>\n",
       "      <td>1.999579</td>\n",
       "    </tr>\n",
       "    <tr>\n",
       "      <th>std</th>\n",
       "      <td>7.604860e+06</td>\n",
       "      <td>2.801277e+06</td>\n",
       "      <td>0.628702</td>\n",
       "    </tr>\n",
       "    <tr>\n",
       "      <th>min</th>\n",
       "      <td>2.202000e+03</td>\n",
       "      <td>1.700000e-01</td>\n",
       "      <td>1.000000</td>\n",
       "    </tr>\n",
       "    <tr>\n",
       "      <th>25%</th>\n",
       "      <td>1.993300e+07</td>\n",
       "      <td>1.041742e+03</td>\n",
       "      <td>2.000000</td>\n",
       "    </tr>\n",
       "    <tr>\n",
       "      <th>50%</th>\n",
       "      <td>1.999939e+07</td>\n",
       "      <td>4.029975e+03</td>\n",
       "      <td>2.000000</td>\n",
       "    </tr>\n",
       "    <tr>\n",
       "      <th>75%</th>\n",
       "      <td>2.006905e+07</td>\n",
       "      <td>1.957238e+04</td>\n",
       "      <td>2.000000</td>\n",
       "    </tr>\n",
       "    <tr>\n",
       "      <th>max</th>\n",
       "      <td>2.021943e+07</td>\n",
       "      <td>2.484089e+08</td>\n",
       "      <td>3.000000</td>\n",
       "    </tr>\n",
       "  </tbody>\n",
       "</table>\n",
       "</div>"
      ],
      "text/plain": [
       "       Expediente_INVIMA  precio_por_tableta  numerofactor\n",
       "count       1.187400e+04        1.187400e+04  11874.000000\n",
       "mean        1.648629e+07        1.690903e+05      1.999579\n",
       "std         7.604860e+06        2.801277e+06      0.628702\n",
       "min         2.202000e+03        1.700000e-01      1.000000\n",
       "25%         1.993300e+07        1.041742e+03      2.000000\n",
       "50%         1.999939e+07        4.029975e+03      2.000000\n",
       "75%         2.006905e+07        1.957238e+04      2.000000\n",
       "max         2.021943e+07        2.484089e+08      3.000000"
      ]
     },
     "execution_count": 21,
     "metadata": {},
     "output_type": "execute_result"
    }
   ],
   "source": [
    "# Se obtiene estadísticas descriptivas de las columnas numéricas\n",
    "df.describe()"
   ]
  },
  {
   "cell_type": "code",
   "execution_count": 22,
   "id": "29392879-7629-4055-9b43-6f7b28d5094b",
   "metadata": {},
   "outputs": [
    {
     "name": "stderr",
     "output_type": "stream",
     "text": [
      "<__array_function__ internals>:5: RuntimeWarning: Converting input from bool to <class 'numpy.uint8'> for compatibility.\n",
      "<__array_function__ internals>:5: RuntimeWarning: Converting input from bool to <class 'numpy.uint8'> for compatibility.\n",
      "C:\\Users\\jorge\\anaconda3\\lib\\site-packages\\seaborn\\axisgrid.py:64: UserWarning: The figure layout has changed to tight\n",
      "  self.fig.tight_layout(*args, **kwargs)\n"
     ]
    },
    {
     "data": {
      "text/plain": [
       "<seaborn.axisgrid.PairGrid at 0x2a7b3faacd0>"
      ]
     },
     "execution_count": 22,
     "metadata": {},
     "output_type": "execute_result"
    },
    {
     "data": {
      "image/png": "[encoded data removed]",
      "text/plain": [
       "<Figure size 720x720 with 20 Axes>"
      ]
     },
     "metadata": {},
     "output_type": "display_data"
    }
   ],
   "source": [
    "sns.set_style('white')\n",
    "sns.pairplot(df)"
   ]
  },
  {
   "cell_type": "code",
   "execution_count": 64,
   "id": "b3af5da9-a689-4765-8e37-2d6ac74fb26f",
   "metadata": {},
   "outputs": [],
   "source": [
    "df.to_excel(\"trabajo_acompañamiento_grupo1_df.xlsx\", index = False)"
   ]
  },
  {
   "cell_type": "code",
   "execution_count": null,
   "id": "9de01c90-caaa-4cec-a377-ab98a5a5f4e2",
   "metadata": {},
   "outputs": [],
   "source": [
    "# ANÁLISIS DE CORRELACIONES CON MATPLOTLIB"
   ]
  },
  {
   "cell_type": "code",
   "execution_count": null,
   "id": "97b05cd8-7635-49f9-9e6f-369961b7feac",
   "metadata": {},
   "outputs": [],
   "source": [
    "# Se desea trabajar con la columna de concentración, sin embargo, esta columna tiene tanto cadena de\n",
    "# caracteres como números, dado que se desea hacer las correlaciones con esta columna, se creará una nueva \n",
    "# columna que contenga solo el valor numérico."
   ]
  },
  {
   "cell_type": "code",
   "execution_count": 24,
   "id": "ffa8465f-d1ae-4836-baa0-44dfd0fee008",
   "metadata": {},
   "outputs": [],
   "source": [
    "df['concentracion_numero'] = df['concentracion'].str.extract('(\\d+)').astype(float)"
   ]
  },
  {
   "cell_type": "code",
   "execution_count": 25,
   "id": "de376a62-131b-4267-bbe9-93aea2379c4a",
   "metadata": {},
   "outputs": [
    {
     "data": {
      "text/html": [
       "<div>\n",
       "<style scoped>\n",
       "    .dataframe tbody tr th:only-of-type {\n",
       "        vertical-align: middle;\n",
       "    }\n",
       "\n",
       "    .dataframe tbody tr th {\n",
       "        vertical-align: top;\n",
       "    }\n",
       "\n",
       "    .dataframe thead th {\n",
       "        text-align: right;\n",
       "    }\n",
       "</style>\n",
       "<table border=\"1\" class=\"dataframe\">\n",
       "  <thead>\n",
       "    <tr style=\"text-align: right;\">\n",
       "      <th></th>\n",
       "      <th>Expediente_INVIMA</th>\n",
       "      <th>principio_activo</th>\n",
       "      <th>concentracion</th>\n",
       "      <th>unidad_base</th>\n",
       "      <th>unidad_de_dispensacion</th>\n",
       "      <th>nombre_comercial</th>\n",
       "      <th>fabricante</th>\n",
       "      <th>medicamento</th>\n",
       "      <th>canal</th>\n",
       "      <th>precio_por_tableta</th>\n",
       "      <th>factoresprecio</th>\n",
       "      <th>numerofactor</th>\n",
       "      <th>canal_institucional</th>\n",
       "      <th>concentracion_numero</th>\n",
       "    </tr>\n",
       "  </thead>\n",
       "  <tbody>\n",
       "    <tr>\n",
       "      <th>0</th>\n",
       "      <td>104739</td>\n",
       "      <td>acido valproico</td>\n",
       "      <td>acido valproico 500 mg</td>\n",
       "      <td>mg</td>\n",
       "      <td>Tableta o cápsula</td>\n",
       "      <td>Valcote</td>\n",
       "      <td>Lafrancol</td>\n",
       "      <td>Valcote (Lafrancol) - Cada tableta contiene: a...</td>\n",
       "      <td>Comercial</td>\n",
       "      <td>3490.33</td>\n",
       "      <td>Medio</td>\n",
       "      <td>2</td>\n",
       "      <td>False</td>\n",
       "      <td>500.0</td>\n",
       "    </tr>\n",
       "    <tr>\n",
       "      <th>1</th>\n",
       "      <td>10815</td>\n",
       "      <td>fluoxetina</td>\n",
       "      <td>fluoxetina 20 mg</td>\n",
       "      <td>mg</td>\n",
       "      <td>Tableta o cápsula</td>\n",
       "      <td>Fluoxetina</td>\n",
       "      <td>Genfar</td>\n",
       "      <td>Fluoxetina (Genfar) - Cada capsula contiene: f...</td>\n",
       "      <td>Comercial</td>\n",
       "      <td>363.13</td>\n",
       "      <td>Medio</td>\n",
       "      <td>2</td>\n",
       "      <td>False</td>\n",
       "      <td>20.0</td>\n",
       "    </tr>\n",
       "    <tr>\n",
       "      <th>2</th>\n",
       "      <td>111057</td>\n",
       "      <td>proximetacaina</td>\n",
       "      <td>proximetacaina 5 mg</td>\n",
       "      <td>ml</td>\n",
       "      <td>Solución o suspensión oftálmica</td>\n",
       "      <td>Alcaine</td>\n",
       "      <td>Alcon</td>\n",
       "      <td>Alcaine (Alcon) - frasco 15 ml - Cada 1 ml con...</td>\n",
       "      <td>Comercial</td>\n",
       "      <td>57433.33</td>\n",
       "      <td>Medio</td>\n",
       "      <td>2</td>\n",
       "      <td>False</td>\n",
       "      <td>5.0</td>\n",
       "    </tr>\n",
       "    <tr>\n",
       "      <th>3</th>\n",
       "      <td>11415</td>\n",
       "      <td>alopurinol</td>\n",
       "      <td>alopurinol 300 mg</td>\n",
       "      <td>mg</td>\n",
       "      <td>Tableta o cápsula</td>\n",
       "      <td>Alopurinol</td>\n",
       "      <td>Memphis</td>\n",
       "      <td>Alopurinol (Memphis) - Cada tableta contiene: ...</td>\n",
       "      <td>Comercial</td>\n",
       "      <td>365.08</td>\n",
       "      <td>Medio</td>\n",
       "      <td>2</td>\n",
       "      <td>False</td>\n",
       "      <td>300.0</td>\n",
       "    </tr>\n",
       "    <tr>\n",
       "      <th>4</th>\n",
       "      <td>11416</td>\n",
       "      <td>haloperidol</td>\n",
       "      <td>haloperidol 10 mg</td>\n",
       "      <td>mg</td>\n",
       "      <td>Tableta o cápsula</td>\n",
       "      <td>Haloperidol</td>\n",
       "      <td>Memphis</td>\n",
       "      <td>Haloperidol (Memphis) - Cada tableta contiene:...</td>\n",
       "      <td>Comercial</td>\n",
       "      <td>533.81</td>\n",
       "      <td>Alto</td>\n",
       "      <td>3</td>\n",
       "      <td>False</td>\n",
       "      <td>10.0</td>\n",
       "    </tr>\n",
       "    <tr>\n",
       "      <th>...</th>\n",
       "      <td>...</td>\n",
       "      <td>...</td>\n",
       "      <td>...</td>\n",
       "      <td>...</td>\n",
       "      <td>...</td>\n",
       "      <td>...</td>\n",
       "      <td>...</td>\n",
       "      <td>...</td>\n",
       "      <td>...</td>\n",
       "      <td>...</td>\n",
       "      <td>...</td>\n",
       "      <td>...</td>\n",
       "      <td>...</td>\n",
       "      <td>...</td>\n",
       "    </tr>\n",
       "    <tr>\n",
       "      <th>11869</th>\n",
       "      <td>93689</td>\n",
       "      <td>acido valproico</td>\n",
       "      <td>acido valproico 250 mg</td>\n",
       "      <td>mg</td>\n",
       "      <td>Tableta o cápsula de liberación modificada</td>\n",
       "      <td>Valcote</td>\n",
       "      <td>Lafrancol</td>\n",
       "      <td>Valcote (Lafrancol) - Cada tableta contiene: a...</td>\n",
       "      <td>Institucional</td>\n",
       "      <td>879.92</td>\n",
       "      <td>Medio</td>\n",
       "      <td>2</td>\n",
       "      <td>True</td>\n",
       "      <td>250.0</td>\n",
       "    </tr>\n",
       "    <tr>\n",
       "      <th>11870</th>\n",
       "      <td>94321</td>\n",
       "      <td>atropina</td>\n",
       "      <td>atropina 10 mg</td>\n",
       "      <td>ml</td>\n",
       "      <td>Solución o suspensión oftálmica</td>\n",
       "      <td>Atropina</td>\n",
       "      <td>Alcon</td>\n",
       "      <td>Atropina (Alcon) - frasco 5 ml - Cada 1 ml con...</td>\n",
       "      <td>Institucional</td>\n",
       "      <td>18240.50</td>\n",
       "      <td>Medio</td>\n",
       "      <td>2</td>\n",
       "      <td>True</td>\n",
       "      <td>10.0</td>\n",
       "    </tr>\n",
       "    <tr>\n",
       "      <th>11871</th>\n",
       "      <td>9444</td>\n",
       "      <td>valaciclovir</td>\n",
       "      <td>valaciclovir 500 mg</td>\n",
       "      <td>mg</td>\n",
       "      <td>Tableta o cápsula</td>\n",
       "      <td>Valtrex</td>\n",
       "      <td>Glaxosmithkline</td>\n",
       "      <td>Valtrex (Glaxosmithkline) - Cada tableta conti...</td>\n",
       "      <td>Institucional</td>\n",
       "      <td>11705.00</td>\n",
       "      <td>Alto</td>\n",
       "      <td>3</td>\n",
       "      <td>True</td>\n",
       "      <td>500.0</td>\n",
       "    </tr>\n",
       "    <tr>\n",
       "      <th>11872</th>\n",
       "      <td>9716</td>\n",
       "      <td>budesonida</td>\n",
       "      <td>budesonida 50 mcg</td>\n",
       "      <td>dosis</td>\n",
       "      <td>Aerosoles</td>\n",
       "      <td>B-Cort</td>\n",
       "      <td>Grunenthal</td>\n",
       "      <td>B-Cort (Grunenthal) - aerosol 200 dosis - Cada...</td>\n",
       "      <td>Institucional</td>\n",
       "      <td>29246.00</td>\n",
       "      <td>Medio</td>\n",
       "      <td>2</td>\n",
       "      <td>True</td>\n",
       "      <td>50.0</td>\n",
       "    </tr>\n",
       "    <tr>\n",
       "      <th>11873</th>\n",
       "      <td>9812</td>\n",
       "      <td>metocarbamol</td>\n",
       "      <td>metocarbamol 750 mg</td>\n",
       "      <td>mg</td>\n",
       "      <td>Tableta o cápsula</td>\n",
       "      <td>Metocarbamol</td>\n",
       "      <td>Memphis</td>\n",
       "      <td>Metocarbamol (Memphis) - Cada tableta contiene...</td>\n",
       "      <td>Institucional</td>\n",
       "      <td>563.50</td>\n",
       "      <td>Alto</td>\n",
       "      <td>3</td>\n",
       "      <td>True</td>\n",
       "      <td>750.0</td>\n",
       "    </tr>\n",
       "  </tbody>\n",
       "</table>\n",
       "<p>11874 rows × 14 columns</p>\n",
       "</div>"
      ],
      "text/plain": [
       "       Expediente_INVIMA principio_activo           concentracion unidad_base  \\\n",
       "0                 104739  acido valproico  acido valproico 500 mg          mg   \n",
       "1                  10815       fluoxetina        fluoxetina 20 mg          mg   \n",
       "2                 111057   proximetacaina     proximetacaina 5 mg          ml   \n",
       "3                  11415       alopurinol       alopurinol 300 mg          mg   \n",
       "4                  11416      haloperidol       haloperidol 10 mg          mg   \n",
       "...                  ...              ...                     ...         ...   \n",
       "11869              93689  acido valproico  acido valproico 250 mg          mg   \n",
       "11870              94321         atropina          atropina 10 mg          ml   \n",
       "11871               9444     valaciclovir     valaciclovir 500 mg          mg   \n",
       "11872               9716       budesonida       budesonida 50 mcg       dosis   \n",
       "11873               9812     metocarbamol     metocarbamol 750 mg          mg   \n",
       "\n",
       "                           unidad_de_dispensacion nombre_comercial  \\\n",
       "0                               Tableta o cápsula          Valcote   \n",
       "1                               Tableta o cápsula       Fluoxetina   \n",
       "2                 Solución o suspensión oftálmica          Alcaine   \n",
       "3                               Tableta o cápsula       Alopurinol   \n",
       "4                               Tableta o cápsula      Haloperidol   \n",
       "...                                           ...              ...   \n",
       "11869  Tableta o cápsula de liberación modificada          Valcote   \n",
       "11870             Solución o suspensión oftálmica         Atropina   \n",
       "11871                           Tableta o cápsula          Valtrex   \n",
       "11872                                   Aerosoles           B-Cort   \n",
       "11873                           Tableta o cápsula     Metocarbamol   \n",
       "\n",
       "            fabricante                                        medicamento  \\\n",
       "0            Lafrancol  Valcote (Lafrancol) - Cada tableta contiene: a...   \n",
       "1               Genfar  Fluoxetina (Genfar) - Cada capsula contiene: f...   \n",
       "2                Alcon  Alcaine (Alcon) - frasco 15 ml - Cada 1 ml con...   \n",
       "3              Memphis  Alopurinol (Memphis) - Cada tableta contiene: ...   \n",
       "4              Memphis  Haloperidol (Memphis) - Cada tableta contiene:...   \n",
       "...                ...                                                ...   \n",
       "11869        Lafrancol  Valcote (Lafrancol) - Cada tableta contiene: a...   \n",
       "11870            Alcon  Atropina (Alcon) - frasco 5 ml - Cada 1 ml con...   \n",
       "11871  Glaxosmithkline  Valtrex (Glaxosmithkline) - Cada tableta conti...   \n",
       "11872       Grunenthal  B-Cort (Grunenthal) - aerosol 200 dosis - Cada...   \n",
       "11873          Memphis  Metocarbamol (Memphis) - Cada tableta contiene...   \n",
       "\n",
       "               canal  precio_por_tableta factoresprecio  numerofactor  \\\n",
       "0          Comercial             3490.33          Medio             2   \n",
       "1          Comercial              363.13          Medio             2   \n",
       "2          Comercial            57433.33          Medio             2   \n",
       "3          Comercial              365.08          Medio             2   \n",
       "4          Comercial              533.81           Alto             3   \n",
       "...              ...                 ...            ...           ...   \n",
       "11869  Institucional              879.92          Medio             2   \n",
       "11870  Institucional            18240.50          Medio             2   \n",
       "11871  Institucional            11705.00           Alto             3   \n",
       "11872  Institucional            29246.00          Medio             2   \n",
       "11873  Institucional              563.50           Alto             3   \n",
       "\n",
       "       canal_institucional  concentracion_numero  \n",
       "0                    False                 500.0  \n",
       "1                    False                  20.0  \n",
       "2                    False                   5.0  \n",
       "3                    False                 300.0  \n",
       "4                    False                  10.0  \n",
       "...                    ...                   ...  \n",
       "11869                 True                 250.0  \n",
       "11870                 True                  10.0  \n",
       "11871                 True                 500.0  \n",
       "11872                 True                  50.0  \n",
       "11873                 True                 750.0  \n",
       "\n",
       "[11874 rows x 14 columns]"
      ]
     },
     "execution_count": 25,
     "metadata": {},
     "output_type": "execute_result"
    }
   ],
   "source": [
    "df"
   ]
  },
  {
   "cell_type": "code",
   "execution_count": null,
   "id": "2f113c3a-906e-4745-95a9-398d6514bc12",
   "metadata": {},
   "outputs": [],
   "source": [
    "# Se verifica que la nueva columna creada sea de tipo numérico "
   ]
  },
  {
   "cell_type": "code",
   "execution_count": 26,
   "id": "09f255cf-c856-4af6-9f81-8066923806ae",
   "metadata": {},
   "outputs": [
    {
     "name": "stdout",
     "output_type": "stream",
     "text": [
      "float64\n"
     ]
    }
   ],
   "source": [
    "print(df['concentracion_numero'].dtype)"
   ]
  },
  {
   "cell_type": "code",
   "execution_count": null,
   "id": "db37801e-c939-454c-b940-3e5350920d6f",
   "metadata": {},
   "outputs": [],
   "source": [
    "# Creación de gráfica de dispersión para las variables concentración_numero y expediente_INVIMA \n",
    "# Se desea saber si las dos variables están relacionadas "
   ]
  },
  {
   "cell_type": "code",
   "execution_count": 36,
   "id": "a76632cd-e273-4e4a-b9c8-ca6085541a2d",
   "metadata": {},
   "outputs": [
    {
     "data": {
      "text/plain": [
       "Text(0, 0.5, 'Expediente invima')"
      ]
     },
     "execution_count": 36,
     "metadata": {},
     "output_type": "execute_result"
    },
    {
     "data": {
      "image/png": "[encoded data removed]",
      "text/plain": [
       "<Figure size 432x288 with 1 Axes>"
      ]
     },
     "metadata": {},
     "output_type": "display_data"
    }
   ],
   "source": [
    "plt.scatter(df['concentracion_numero'],df['Expediente_INVIMA'])\n",
    "plt.title('Concentración de medicamentos vs Expediente INVIMA')\n",
    "plt.xlabel('Concentración')\n",
    "plt.ylabel('Expediente invima')"
   ]
  },
  {
   "cell_type": "code",
   "execution_count": null,
   "id": "5a42d2b4-1115-4ce7-bb92-62dc63e97530",
   "metadata": {},
   "outputs": [],
   "source": [
    "# Calculo de la correlación para estas dos variables "
   ]
  },
  {
   "cell_type": "code",
   "execution_count": 41,
   "id": "10ed1fac-b530-436a-9c17-1199850e0186",
   "metadata": {},
   "outputs": [
    {
     "name": "stdout",
     "output_type": "stream",
     "text": [
      "El coeficiente de correlación es: 0.004248634989528873\n"
     ]
    }
   ],
   "source": [
    "correlation_1 = df['concentracion_numero'].corr(df['Expediente_INVIMA'])\n",
    "print(f'El coeficiente de correlación es: {correlation_1}')"
   ]
  },
  {
   "cell_type": "code",
   "execution_count": 35,
   "id": "bf009957-d7fa-4f88-bd89-56bab6a128af",
   "metadata": {},
   "outputs": [],
   "source": [
    "# Al analizar la correlación entre las variables 'concentracion_numero' y 'expediente_INVIMA' \n",
    "# se observa una relación extremadamente débil o prácticamente nula entre ambas en el conjunto \n",
    "# de datos. El coeficiente de correlación de 0.0042 indica que no hay una asociación lineal \n",
    "# significativa entre estos dos atributos.\n",
    "\n",
    "# Esta falta de correlación lineal sugiere que las variaciones en la concentración de los medicamentos \n",
    "# no están acompañadas por patrones predecibles en los valores del expediente INVIMA. \n",
    "# Por lo tanto, al realizar análisis o toma de decisiones relacionadas con estas variables, \n",
    "# es poco probable que uno pueda usar la información de una variable para hacer inferencias \n",
    "# confiables sobre la otra.\n",
    "\n",
    "# En otras palabras, el 0.42% de las variaciones del expediente Invima se debe a las variaciones\n",
    "# en la concentración de los medicamentos, el restante 99.58% se debe a otros factores y por lo \n",
    "# tanto no hay asociación estadística entre ambas variables."
   ]
  },
  {
   "cell_type": "code",
   "execution_count": null,
   "id": "7be48308-7450-41fd-8a03-5ac2eaea1773",
   "metadata": {},
   "outputs": [],
   "source": [
    "# Creación de gráfica de dispersión para las variables concentración_numero y precio por tableta \n",
    "# Se desea saber si las dos variables están relacionadas "
   ]
  },
  {
   "cell_type": "code",
   "execution_count": 37,
   "id": "f839d696-23c6-4835-9f5e-0bcec9799ccc",
   "metadata": {},
   "outputs": [
    {
     "data": {
      "text/plain": [
       "Text(0, 0.5, 'Precio por tableta')"
      ]
     },
     "execution_count": 37,
     "metadata": {},
     "output_type": "execute_result"
    },
    {
     "data": {
      "image/png": "[encoded data removed]",
      "text/plain": [
       "<Figure size 432x288 with 1 Axes>"
      ]
     },
     "metadata": {},
     "output_type": "display_data"
    }
   ],
   "source": [
    "plt.scatter(df['concentracion_numero'],df['precio_por_tableta'])\n",
    "plt.title('Concentración de medicamentos vs precio por tableta')\n",
    "plt.xlabel('Concentración')\n",
    "plt.ylabel('Precio por tableta')"
   ]
  },
  {
   "cell_type": "code",
   "execution_count": 42,
   "id": "f1c51b09-9362-43dc-b4ec-fd61c8b95d5a",
   "metadata": {},
   "outputs": [
    {
     "name": "stdout",
     "output_type": "stream",
     "text": [
      "El coeficiente de correlación es: -0.0017664233347452875\n"
     ]
    }
   ],
   "source": [
    "correlation_2 = df['concentracion_numero'].corr(df['precio_por_tableta'])\n",
    "print(f'El coeficiente de correlación es: {correlation_2}')"
   ]
  },
  {
   "cell_type": "code",
   "execution_count": null,
   "id": "77f9308e-50b3-408a-9f13-3f55aacb4a73",
   "metadata": {},
   "outputs": [],
   "source": [
    "# La correlación de -0.0018 sugiere una relación extremadamente débil entre \n",
    "# 'concentracion_numero' y 'precio_por_tableta'. Un valor negativo indica que, \n",
    "# en general, cuando una variable aumenta, la otra tiende a disminuir ligeramente, \n",
    "# y viceversa. Sin embargo, el valor es tan cercano a cero que esta relación es prácticamente \n",
    "# insignificante.\n",
    "\n",
    "# No existe una relación lineal apreciable entre estas dos variables en el conjunto de datos analizado."
   ]
  },
  {
   "cell_type": "code",
   "execution_count": null,
   "id": "99e2a2cc-5221-41ea-ac1a-096448c480f5",
   "metadata": {},
   "outputs": [],
   "source": [
    "# Creación de gráfica de dispersión para las variables precio por tableta y expediente Invima \n",
    "# Se desea saber si las dos variables están relacionadas "
   ]
  },
  {
   "cell_type": "code",
   "execution_count": 38,
   "id": "0a09c6cb-fc2c-43e9-b9a0-819395693390",
   "metadata": {},
   "outputs": [
    {
     "data": {
      "text/plain": [
       "Text(0, 0.5, 'Expediente INVIMA')"
      ]
     },
     "execution_count": 38,
     "metadata": {},
     "output_type": "execute_result"
    },
    {
     "data": {
      "image/png": "[encoded data removed]",
      "text/plain": [
       "<Figure size 432x288 with 1 Axes>"
      ]
     },
     "metadata": {},
     "output_type": "display_data"
    }
   ],
   "source": [
    "plt.scatter(df['precio_por_tableta'],df['Expediente_INVIMA'])\n",
    "plt.title('Precio por tableta vs Expediente INVIMA')\n",
    "plt.xlabel('Precio por tableta')\n",
    "plt.ylabel('Expediente INVIMA')"
   ]
  },
  {
   "cell_type": "code",
   "execution_count": 43,
   "id": "b6f2e234-3111-4161-aa93-09619d0963e1",
   "metadata": {},
   "outputs": [
    {
     "name": "stdout",
     "output_type": "stream",
     "text": [
      "El coeficiente de correlación es: 0.019001471130365488\n"
     ]
    }
   ],
   "source": [
    "correlation_3 = df['precio_por_tableta'].corr(df['Expediente_INVIMA'])\n",
    "print(f'El coeficiente de correlación es: {correlation_3}')"
   ]
  },
  {
   "cell_type": "code",
   "execution_count": null,
   "id": "893c907f-7525-4b65-b0a9-a528015dfe97",
   "metadata": {},
   "outputs": [],
   "source": [
    "# La correlación calculada de 0.0190 entre 'precio_por_tableta' y 'expediente_invima' \n",
    "# sugiere una relación extremadamente débil entre estas dos variables."
   ]
  },
  {
   "cell_type": "code",
   "execution_count": null,
   "id": "877c6cce-f1a2-4ed3-992f-55ae57d2e62d",
   "metadata": {},
   "outputs": [],
   "source": [
    "# Gráfico de pastel para mostrar la proporción de unidades de dispensación\n",
    "# Dado que hay muchos valores para esta variable, se tomarán en cuenta los primeros 10 mas frecuentes"
   ]
  },
  {
   "cell_type": "code",
   "execution_count": 47,
   "id": "b519bb95-1fe1-4b37-8a2c-8fa885bbce89",
   "metadata": {},
   "outputs": [],
   "source": [
    "top_unidades_dispensacion = df['unidad_de_dispensacion'].value_counts().head(10)"
   ]
  },
  {
   "cell_type": "code",
   "execution_count": 48,
   "id": "e2674ebd-64c1-4e70-b01c-494d77c5f008",
   "metadata": {},
   "outputs": [
    {
     "data": {
      "text/plain": [
       "Tableta o cápsula                                             6001\n",
       "Solución o suspensión inyectable                              1514\n",
       "Solución o suspensión oral                                     689\n",
       "Cremas o geles o ungüentos o pomadas o pastas o jaleas         638\n",
       "Polvo para reconstituir a Solución o suspensión inyectable     625\n",
       "Solución o suspensión oftálmica                                445\n",
       "Polvo para reconstituir a Solución o suspensión oral           328\n",
       "Jarabe                                                         327\n",
       "Tableta o cápsula de liberación modificada                     316\n",
       "Solución o suspensión para inhalación                          152\n",
       "Name: unidad_de_dispensacion, dtype: int64"
      ]
     },
     "execution_count": 48,
     "metadata": {},
     "output_type": "execute_result"
    }
   ],
   "source": [
    "top_unidades_dispensacion"
   ]
  },
  {
   "cell_type": "code",
   "execution_count": 50,
   "id": "d78af111-d7e2-4d80-85c7-828a24c22d0c",
   "metadata": {},
   "outputs": [
    {
     "data": {
      "image/png": "[encoded data removed]",
      "text/plain": [
       "<Figure size 576x576 with 1 Axes>"
      ]
     },
     "metadata": {},
     "output_type": "display_data"
    }
   ],
   "source": [
    "plt.figure(figsize=(8, 8))\n",
    "top_unidades_dispensacion.plot(kind='pie', autopct='%1.1f%%')\n",
    "plt.title('Top 10 Unidades de Dispensación Más Comunes')\n",
    "plt.ylabel('')\n",
    "plt.tight_layout()\n",
    "plt.show()"
   ]
  },
  {
   "cell_type": "code",
   "execution_count": null,
   "id": "b8b2d4c9-6db9-496c-b425-be78e3486e2f",
   "metadata": {},
   "outputs": [],
   "source": [
    "# Gráfico de cajas (boxplot) para comparar los precios por tableta por canal"
   ]
  },
  {
   "cell_type": "code",
   "execution_count": 52,
   "id": "44d058ba-7a85-41f8-92e9-a426e47c66c7",
   "metadata": {},
   "outputs": [
    {
     "data": {
      "image/png": "[encoded data removed]",
      "text/plain": [
       "<Figure size 720x432 with 1 Axes>"
      ]
     },
     "metadata": {},
     "output_type": "display_data"
    }
   ],
   "source": [
    "plt.figure(figsize=(10, 6))\n",
    "plt.boxplot(df.groupby('canal')['precio_por_tableta'].mean(), vert=False)\n",
    "plt.title('Comparación de Precios por Tableta por Canal')\n",
    "plt.xlabel('Precio por Tableta')\n",
    "plt.ylabel('Canal')\n",
    "plt.tight_layout()\n",
    "plt.show()"
   ]
  },
  {
   "cell_type": "code",
   "execution_count": null,
   "id": "27ed462b-c3bb-430c-81a7-53c41f71a367",
   "metadata": {},
   "outputs": [],
   "source": [
    "# Histograma para las primeras 10 concentraciones más repetidas"
   ]
  },
  {
   "cell_type": "code",
   "execution_count": 69,
   "id": "8ae8c6b8-1257-4bfd-93ef-7f57a874713e",
   "metadata": {},
   "outputs": [],
   "source": [
    "top_concentraciones = df['concentracion'].value_counts().head(10)"
   ]
  },
  {
   "cell_type": "code",
   "execution_count": 70,
   "id": "f979d514-8331-45bc-adef-25389958938a",
   "metadata": {},
   "outputs": [
    {
     "data": {
      "text/plain": [
       "clotrimazol 1 g          57\n",
       "cetirizina 10 mg         45\n",
       "nitazoxanida 500 mg      45\n",
       "azitromicina 500 mg      44\n",
       "acetaminofen 500 mg      43\n",
       "meloxicam 15 mg          42\n",
       "clobetasol 0,05 g        40\n",
       "sildenafil 50 mg         40\n",
       "claritromicina 500 mg    38\n",
       "desloratadina 5 mg       35\n",
       "Name: concentracion, dtype: int64"
      ]
     },
     "execution_count": 70,
     "metadata": {},
     "output_type": "execute_result"
    }
   ],
   "source": [
    "top_concentraciones"
   ]
  },
  {
   "cell_type": "code",
   "execution_count": 71,
   "id": "a4d27978-0224-49be-9504-89c6b42cd249",
   "metadata": {},
   "outputs": [
    {
     "data": {
      "image/png": "[encoded data removed]",
      "text/plain": [
       "<Figure size 576x432 with 1 Axes>"
      ]
     },
     "metadata": {},
     "output_type": "display_data"
    }
   ],
   "source": [
    "plt.figure(figsize=(8, 6))\n",
    "plt.hist(top_concentraciones.index, weights=top_concentraciones.values, bins=10, edgecolor='black')\n",
    "plt.title('Histograma de las 10 Concentraciones Más Frecuentes')\n",
    "plt.xlabel('Concentración')\n",
    "plt.ylabel('Frecuencia')\n",
    "plt.xticks(rotation=45)\n",
    "plt.tight_layout()\n",
    "plt.show()"
   ]
  },
  {
   "cell_type": "code",
   "execution_count": null,
   "id": "97aaf510-4b91-4f19-99e6-f534604a1a1a",
   "metadata": {},
   "outputs": [],
   "source": [
    "# Gráfico de Barras para Canal (institucional o comercial)."
   ]
  },
  {
   "cell_type": "code",
   "execution_count": 73,
   "id": "66dcda5c-dc21-4bad-b3b0-0f87516b1918",
   "metadata": {},
   "outputs": [
    {
     "data": {
      "image/png": "[encoded data removed]",
      "text/plain": [
       "<Figure size 576x432 with 1 Axes>"
      ]
     },
     "metadata": {},
     "output_type": "display_data"
    }
   ],
   "source": [
    "plt.figure(figsize=(8, 6))\n",
    "df['canal'].value_counts().plot(kind='bar')\n",
    "plt.title('Distribución de Datos por Canal')\n",
    "plt.xlabel('Canal')\n",
    "plt.ylabel('Cantidad')\n",
    "plt.xticks(rotation=0)\n",
    "plt.tight_layout()\n",
    "plt.show()"
   ]
  }
 ],
 "metadata": {
  "kernelspec": {
   "display_name": "Python 3 (ipykernel)",
   "language": "python",
   "name": "python3"
  },
  "language_info": {
   "codemirror_mode": {
    "name": "ipython",
    "version": 3
   },
   "file_extension": ".py",
   "mimetype": "text/x-python",
   "name": "python",
   "nbconvert_exporter": "python",
   "pygments_lexer": "ipython3",
   "version": "3.11.3"
  }
 },
 "nbformat": 4,
 "nbformat_minor": 5
}
